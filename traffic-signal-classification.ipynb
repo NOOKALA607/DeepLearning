{
 "cells": [
  {
   "cell_type": "code",
   "execution_count": 1,
   "metadata": {},
   "outputs": [
    {
     "name": "stderr",
     "output_type": "stream",
     "text": [
      "Using TensorFlow backend.\n"
     ]
    }
   ],
   "source": [
    "import keras"
   ]
  },
  {
   "cell_type": "code",
   "execution_count": 2,
   "metadata": {},
   "outputs": [],
   "source": [
    "from keras.models import Sequential\n",
    "from keras.layers import Conv2D, MaxPooling2D,Dense,Activation,Flatten"
   ]
  },
  {
   "cell_type": "code",
   "execution_count": 3,
   "metadata": {},
   "outputs": [],
   "source": [
    "model=Sequential()\n",
    "model.add(Conv2D(32,(3,3), input_shape=(64,64,3),activation=\"relu\"))\n",
    "model.add(MaxPooling2D(pool_size=(2,2)))\n",
    "model.add(Conv2D(32,(3,3),activation=\"relu\"))"
   ]
  },
  {
   "cell_type": "code",
   "execution_count": 4,
   "metadata": {},
   "outputs": [],
   "source": [
    "model.add(Flatten())"
   ]
  },
  {
   "cell_type": "code",
   "execution_count": 5,
   "metadata": {},
   "outputs": [],
   "source": [
    "model.add(Dense(32,input_shape=(64,64,3),activation=\"relu\"))"
   ]
  },
  {
   "cell_type": "code",
   "execution_count": 6,
   "metadata": {},
   "outputs": [],
   "source": [
    "model.add(Dense(64,activation=\"relu\"))"
   ]
  },
  {
   "cell_type": "code",
   "execution_count": 7,
   "metadata": {},
   "outputs": [],
   "source": [
    "model.add(Dense(7,activation=\"softmax\"))"
   ]
  },
  {
   "cell_type": "code",
   "execution_count": 8,
   "metadata": {},
   "outputs": [],
   "source": [
    "model.compile(loss=\"kullback_leibler_divergence\",optimizer=\"sgd\",metrics=[\"accuracy\"])"
   ]
  },
  {
   "cell_type": "code",
   "execution_count": 9,
   "metadata": {},
   "outputs": [],
   "source": [
    "from keras.preprocessing.image import ImageDataGenerator"
   ]
  },
  {
   "cell_type": "code",
   "execution_count": 10,
   "metadata": {},
   "outputs": [],
   "source": [
    "train_images=ImageDataGenerator(rescale=1./255,shear_range=2,zoom_range=2)\n",
    "test_images=ImageDataGenerator(rescale=1./255,shear_range=2,zoom_range=2)"
   ]
  },
  {
   "cell_type": "code",
   "execution_count": 11,
   "metadata": {},
   "outputs": [
    {
     "name": "stdout",
     "output_type": "stream",
     "text": [
      "Found 1046 images belonging to 7 classes.\n",
      "Found 252 images belonging to 7 classes.\n"
     ]
    }
   ],
   "source": [
    "train_data=train_images.flow_from_directory(r\"E:\\STIP TASKS\\Traffic signals\\train_data_traffic\",\n",
    "                                           target_size=(64,64),batch_size=32)\n",
    "test_data=train_images.flow_from_directory(r\"E:\\STIP TASKS\\Traffic signals\\test_data_traffic\",\n",
    "                                          target_size=(64,64),batch_size=32)"
   ]
  },
  {
   "cell_type": "code",
   "execution_count": 12,
   "metadata": {},
   "outputs": [
    {
     "name": "stdout",
     "output_type": "stream",
     "text": [
      "Epoch 1/5\n",
      "1024/1024 [==============================] - 470s 459ms/step - loss: 0.6789 - accuracy: 0.7509 - val_loss: 0.5496 - val_accuracy: 0.7392\n",
      "Epoch 2/5\n",
      "1024/1024 [==============================] - 514s 502ms/step - loss: 0.2140 - accuracy: 0.9269 - val_loss: 1.4964 - val_accuracy: 0.7595\n",
      "Epoch 3/5\n",
      "1024/1024 [==============================] - 379s 370ms/step - loss: 0.1291 - accuracy: 0.9557 - val_loss: 0.9964 - val_accuracy: 0.7395\n",
      "Epoch 4/5\n",
      "1024/1024 [==============================] - 513s 501ms/step - loss: 0.0962 - accuracy: 0.9673 - val_loss: 0.5382 - val_accuracy: 0.7874\n",
      "Epoch 5/5\n",
      "1024/1024 [==============================] - 534s 522ms/step - loss: 0.0736 - accuracy: 0.9740 - val_loss: 0.7658 - val_accuracy: 0.8006\n"
     ]
    },
    {
     "data": {
      "text/plain": [
       "<keras.callbacks.callbacks.History at 0x1faf1176bc8>"
      ]
     },
     "execution_count": 12,
     "metadata": {},
     "output_type": "execute_result"
    }
   ],
   "source": [
    "model.fit_generator(train_data,\n",
    "                    validation_data=test_data,\n",
    "                    epochs=5,\n",
    "                    steps_per_epoch=1024,\n",
    "                    validation_steps=252,verbose=1)\n"
   ]
  },
  {
   "cell_type": "code",
   "execution_count": 23,
   "metadata": {
    "scrolled": false
   },
   "outputs": [
    {
     "name": "stdout",
     "output_type": "stream",
     "text": [
      "{'child_play_train': 0, 'go_train': 1, 'no_entry_train': 2, 'pedeatrian_train': 3, 'speed_lim_train': 4, 'stop_train': 5, 'yellow_train': 6}\n",
      "[[0. 0. 0. 0. 0. 1. 0.]]\n"
     ]
    }
   ],
   "source": [
    "import numpy as np\n",
    "import os\n",
    "from keras.preprocessing import image\n",
    "test_image = image.load_img(r\"E:\\STIP TASKS\\Traffic signals\\stop2_0_7458.jpg\",target_size = (64, 64))\n",
    "#test_image=image.load_img(r\"E:\\STIP TASKS\\Traffic signals\\test_green1.jpeg\",target_size=(64,64))\n",
    "test_image = image.img_to_array(test_image)\n",
    "test_image = np.expand_dims(test_image, axis = 0)\n",
    "result = model.predict(test_image)\n",
    "print(train_data.class_indices)\n",
    "print(result)"
   ]
  },
  {
   "cell_type": "code",
   "execution_count": 24,
   "metadata": {},
   "outputs": [
    {
     "name": "stdout",
     "output_type": "stream",
     "text": [
      "stop\n"
     ]
    }
   ],
   "source": [
    "\n",
    "if int(result[0][0])== 1:\n",
    "    print(\"go slow here, its school zone\")\n",
    "elif int(result[0][1])== 1:\n",
    "    print(\"its green, go\")\n",
    "    \n",
    "elif int(result[0][2])==1 :\n",
    "    print(\" no_entry\")\n",
    "elif int(result[0][4])== 1:\n",
    "    print(\"stop or slow ahead, there is pedestrian_cross\")\n",
    "    \n",
    "elif int(result[0][5])==1:\n",
    "    print(\"stop\")\n",
    "    \n",
    "elif int(result[0][6])==1:\n",
    "    print(\"if your in moving stop here or move if your at starting position\")\n",
    "\n",
    "else:\n",
    "    print(\"sorry, i am not recognized\")"
   ]
  },
  {
   "cell_type": "code",
   "execution_count": 25,
   "metadata": {
    "scrolled": false
   },
   "outputs": [
    {
     "name": "stdout",
     "output_type": "stream",
     "text": [
      "{'child_play_train': 0, 'go_train': 1, 'no_entry_train': 2, 'pedeatrian_train': 3, 'speed_lim_train': 4, 'stop_train': 5, 'yellow_train': 6}\n",
      "[[0. 1. 0. 0. 0. 0. 0.]]\n"
     ]
    }
   ],
   "source": [
    "import numpy as np\n",
    "import os\n",
    "from keras.preprocessing import image\n",
    "#test_image = image.load_img(r\"E:\\STIP TASKS\\Traffic signals\\stop2_0_7458.jpg\",target_size = (64, 64))\n",
    "test_image=image.load_img(r\"E:\\STIP TASKS\\Traffic signals\\test_green1.jpeg\",target_size=(64,64))\n",
    "test_image = image.img_to_array(test_image)\n",
    "test_image = np.expand_dims(test_image, axis = 0)\n",
    "result = model.predict(test_image)\n",
    "print(train_data.class_indices)\n",
    "print(result)"
   ]
  },
  {
   "cell_type": "code",
   "execution_count": 26,
   "metadata": {},
   "outputs": [
    {
     "name": "stdout",
     "output_type": "stream",
     "text": [
      "its green, go\n"
     ]
    }
   ],
   "source": [
    "\n",
    "if int(result[0][0])== 1:\n",
    "    print(\"go slow here, its school zone\")\n",
    "elif int(result[0][1])== 1:\n",
    "    print(\"its green, go\")\n",
    "    \n",
    "elif int(result[0][2])==1 :\n",
    "    print(\" no_entry\")\n",
    "elif int(result[0][4])== 1:\n",
    "    print(\"stop or slow ahead, there is pedestrian_cross\")\n",
    "    \n",
    "elif int(result[0][5])==1:\n",
    "    print(\"stop\")\n",
    "    \n",
    "elif int(result[0][6])==1:\n",
    "    print(\"if your in moving stop here or move if your at starting position\")\n",
    "\n",
    "else:\n",
    "    print(\"sorry, i am not recognized\")"
   ]
  },
  {
   "cell_type": "code",
   "execution_count": 27,
   "metadata": {},
   "outputs": [
    {
     "name": "stdout",
     "output_type": "stream",
     "text": [
      "{'child_play_train': 0, 'go_train': 1, 'no_entry_train': 2, 'pedeatrian_train': 3, 'speed_lim_train': 4, 'stop_train': 5, 'yellow_train': 6}\n",
      "[[1. 0. 0. 0. 0. 0. 0.]]\n"
     ]
    }
   ],
   "source": [
    "import numpy as np\n",
    "import os\n",
    "from keras.preprocessing import image\n",
    "#test_image = image.load_img(r\"E:\\STIP TASKS\\Traffic signals\\stop2_0_7458.jpg\",target_size = (64, 64))\n",
    "test_image=image.load_img(r\"E:\\STIP TASKS\\Traffic signals\\child_at_play32.jpg\",target_size=(64,64))\n",
    "test_image = image.img_to_array(test_image)\n",
    "test_image = np.expand_dims(test_image, axis = 0)\n",
    "result = model.predict(test_image)\n",
    "print(train_data.class_indices)\n",
    "print(result)"
   ]
  },
  {
   "cell_type": "code",
   "execution_count": 28,
   "metadata": {},
   "outputs": [
    {
     "name": "stdout",
     "output_type": "stream",
     "text": [
      "go slow here, its school zone\n"
     ]
    }
   ],
   "source": [
    "\n",
    "if int(result[0][0])== 1:\n",
    "    print(\"go slow here, its school zone\")\n",
    "elif int(result[0][1])== 1:\n",
    "    print(\"its green, go\")\n",
    "    \n",
    "elif int(result[0][2])==1 :\n",
    "    print(\" no_entry\")\n",
    "elif int(result[0][4])== 1:\n",
    "    print(\"stop or slow ahead, there is pedestrian_cross\")\n",
    "    \n",
    "elif int(result[0][5])==1:\n",
    "    print(\"stop\")\n",
    "    \n",
    "elif int(result[0][6])==1:\n",
    "    print(\"if your in moving stop here or move if your at starting position\")\n",
    "\n",
    "else:\n",
    "    print(\"sorry, i am not recognized\")"
   ]
  },
  {
   "cell_type": "code",
   "execution_count": null,
   "metadata": {},
   "outputs": [],
   "source": []
  }
 ],
 "metadata": {
  "kernelspec": {
   "display_name": "Python 3",
   "language": "python",
   "name": "python3"
  },
  "language_info": {
   "codemirror_mode": {
    "name": "ipython",
    "version": 3
   },
   "file_extension": ".py",
   "mimetype": "text/x-python",
   "name": "python",
   "nbconvert_exporter": "python",
   "pygments_lexer": "ipython3",
   "version": "3.7.6"
  }
 },
 "nbformat": 4,
 "nbformat_minor": 4
}
